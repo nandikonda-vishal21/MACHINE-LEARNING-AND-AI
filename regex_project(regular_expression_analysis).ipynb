{
  "nbformat": 4,
  "nbformat_minor": 0,
  "metadata": {
    "colab": {
      "name": "regex_project(regular expression analysis).ipynb",
      "provenance": [],
      "authorship_tag": "ABX9TyMo5v9NMH9TjHJUNAsKK9NW",
      "include_colab_link": true
    },
    "kernelspec": {
      "name": "python3",
      "display_name": "Python 3"
    },
    "language_info": {
      "name": "python"
    }
  },
  "cells": [
    {
      "cell_type": "markdown",
      "metadata": {
        "id": "view-in-github",
        "colab_type": "text"
      },
      "source": [
        "<a href=\"https://colab.research.google.com/github/nandikonda-vishal21/MACHINE-LEARNING-AND-AI/blob/main/regex_project(regular_expression_analysis).ipynb\" target=\"_parent\"><img src=\"https://colab.research.google.com/assets/colab-badge.svg\" alt=\"Open In Colab\"/></a>"
      ]
    },
    {
      "cell_type": "code",
      "metadata": {
        "id": "U0MjcTADvcJo"
      },
      "source": [
        "import regex as re"
      ],
      "execution_count": 16,
      "outputs": []
    },
    {
      "cell_type": "code",
      "metadata": {
        "colab": {
          "base_uri": "https://localhost:8080/",
          "height": 35
        },
        "id": "0UDm26tJv5w3",
        "outputId": "649d453c-f810-4a26-9dfa-fb5d24352b0e"
      },
      "source": [
        "re.__version__"
      ],
      "execution_count": 17,
      "outputs": [
        {
          "output_type": "execute_result",
          "data": {
            "application/vnd.google.colaboratory.intrinsic+json": {
              "type": "string"
            },
            "text/plain": [
              "'2.5.72'"
            ]
          },
          "metadata": {
            "tags": []
          },
          "execution_count": 17
        }
      ]
    },
    {
      "cell_type": "code",
      "metadata": {
        "colab": {
          "base_uri": "https://localhost:8080/"
        },
        "id": "oRicBuXCwPhp",
        "outputId": "3740565a-abee-4e35-a0d4-94d7bb42908b"
      },
      "source": [
        "dir(re)"
      ],
      "execution_count": 18,
      "outputs": [
        {
          "output_type": "execute_result",
          "data": {
            "text/plain": [
              "['A',\n",
              " 'ASCII',\n",
              " 'B',\n",
              " 'BESTMATCH',\n",
              " 'D',\n",
              " 'DEBUG',\n",
              " 'DEFAULT_VERSION',\n",
              " 'DOTALL',\n",
              " 'E',\n",
              " 'ENHANCEMATCH',\n",
              " 'F',\n",
              " 'FULLCASE',\n",
              " 'I',\n",
              " 'IGNORECASE',\n",
              " 'L',\n",
              " 'LOCALE',\n",
              " 'M',\n",
              " 'MULTILINE',\n",
              " 'P',\n",
              " 'POSIX',\n",
              " 'R',\n",
              " 'REVERSE',\n",
              " 'Regex',\n",
              " 'S',\n",
              " 'Scanner',\n",
              " 'T',\n",
              " 'TEMPLATE',\n",
              " 'U',\n",
              " 'UNICODE',\n",
              " 'V0',\n",
              " 'V1',\n",
              " 'VERBOSE',\n",
              " 'VERSION0',\n",
              " 'VERSION1',\n",
              " 'W',\n",
              " 'WORD',\n",
              " 'X',\n",
              " '__all__',\n",
              " '__builtins__',\n",
              " '__cached__',\n",
              " '__doc__',\n",
              " '__file__',\n",
              " '__loader__',\n",
              " '__name__',\n",
              " '__package__',\n",
              " '__path__',\n",
              " '__spec__',\n",
              " '__version__',\n",
              " '_regex',\n",
              " '_regex_core',\n",
              " 'compile',\n",
              " 'error',\n",
              " 'escape',\n",
              " 'findall',\n",
              " 'finditer',\n",
              " 'fullmatch',\n",
              " 'match',\n",
              " 'purge',\n",
              " 'regex',\n",
              " 'search',\n",
              " 'split',\n",
              " 'splititer',\n",
              " 'sub',\n",
              " 'subf',\n",
              " 'subfn',\n",
              " 'subn',\n",
              " 'template']"
            ]
          },
          "metadata": {
            "tags": []
          },
          "execution_count": 18
        }
      ]
    },
    {
      "cell_type": "code",
      "metadata": {
        "id": "iALTo--ewaks"
      },
      "source": [
        "data = 'abcdefgh  ABCDEFGH adccdefabcdad ABDCCDADDBECE ABcdD$caDBabc 89000020003472 abd....def abc.... bb....def .....gha 123-456-321 123*432#146 nandikondavishal@gmail.com @gmail.com'"
      ],
      "execution_count": 19,
      "outputs": []
    },
    {
      "cell_type": "code",
      "metadata": {
        "colab": {
          "base_uri": "https://localhost:8080/"
        },
        "id": "OnjXvY077bzf",
        "outputId": "c24748a2-e52a-476e-e06d-fd6457061260"
      },
      "source": [
        "re.findall('\\d\\d' , data)"
      ],
      "execution_count": 47,
      "outputs": [
        {
          "output_type": "execute_result",
          "data": {
            "text/plain": [
              "['89', '00', '00', '20', '00', '34', '72', '12', '45', '32', '12', '43', '14']"
            ]
          },
          "metadata": {
            "tags": []
          },
          "execution_count": 47
        }
      ]
    },
    {
      "cell_type": "code",
      "metadata": {
        "colab": {
          "base_uri": "https://localhost:8080/"
        },
        "id": "LDAMRic37qB2",
        "outputId": "0b637a04-6b2c-47cb-f5fc-ec3724deb5aa"
      },
      "source": [
        "re.findall('[a-zA-Z0-9]' , data)"
      ],
      "execution_count": 49,
      "outputs": [
        {
          "output_type": "execute_result",
          "data": {
            "text/plain": [
              "['a',\n",
              " 'b',\n",
              " 'c',\n",
              " 'd',\n",
              " 'e',\n",
              " 'f',\n",
              " 'g',\n",
              " 'h',\n",
              " 'A',\n",
              " 'B',\n",
              " 'C',\n",
              " 'D',\n",
              " 'E',\n",
              " 'F',\n",
              " 'G',\n",
              " 'H',\n",
              " 'a',\n",
              " 'd',\n",
              " 'c',\n",
              " 'c',\n",
              " 'd',\n",
              " 'e',\n",
              " 'f',\n",
              " 'a',\n",
              " 'b',\n",
              " 'c',\n",
              " 'd',\n",
              " 'a',\n",
              " 'd',\n",
              " 'A',\n",
              " 'B',\n",
              " 'D',\n",
              " 'C',\n",
              " 'C',\n",
              " 'D',\n",
              " 'A',\n",
              " 'D',\n",
              " 'D',\n",
              " 'B',\n",
              " 'E',\n",
              " 'C',\n",
              " 'E',\n",
              " 'A',\n",
              " 'B',\n",
              " 'c',\n",
              " 'd',\n",
              " 'D',\n",
              " 'c',\n",
              " 'a',\n",
              " 'D',\n",
              " 'B',\n",
              " 'a',\n",
              " 'b',\n",
              " 'c',\n",
              " '8',\n",
              " '9',\n",
              " '0',\n",
              " '0',\n",
              " '0',\n",
              " '0',\n",
              " '2',\n",
              " '0',\n",
              " '0',\n",
              " '0',\n",
              " '3',\n",
              " '4',\n",
              " '7',\n",
              " '2',\n",
              " 'a',\n",
              " 'b',\n",
              " 'd',\n",
              " 'd',\n",
              " 'e',\n",
              " 'f',\n",
              " 'a',\n",
              " 'b',\n",
              " 'c',\n",
              " 'b',\n",
              " 'b',\n",
              " 'd',\n",
              " 'e',\n",
              " 'f',\n",
              " 'g',\n",
              " 'h',\n",
              " 'a',\n",
              " '1',\n",
              " '2',\n",
              " '3',\n",
              " '4',\n",
              " '5',\n",
              " '6',\n",
              " '3',\n",
              " '2',\n",
              " '1',\n",
              " '1',\n",
              " '2',\n",
              " '3',\n",
              " '4',\n",
              " '3',\n",
              " '2',\n",
              " '1',\n",
              " '4',\n",
              " '6',\n",
              " 'n',\n",
              " 'a',\n",
              " 'n',\n",
              " 'd',\n",
              " 'i',\n",
              " 'k',\n",
              " 'o',\n",
              " 'n',\n",
              " 'd',\n",
              " 'a',\n",
              " 'v',\n",
              " 'i',\n",
              " 's',\n",
              " 'h',\n",
              " 'a',\n",
              " 'l',\n",
              " 'g',\n",
              " 'm',\n",
              " 'a',\n",
              " 'i',\n",
              " 'l',\n",
              " 'c',\n",
              " 'o',\n",
              " 'm',\n",
              " 'g',\n",
              " 'm',\n",
              " 'a',\n",
              " 'i',\n",
              " 'l',\n",
              " 'c',\n",
              " 'o',\n",
              " 'm']"
            ]
          },
          "metadata": {
            "tags": []
          },
          "execution_count": 49
        }
      ]
    },
    {
      "cell_type": "code",
      "metadata": {
        "colab": {
          "base_uri": "https://localhost:8080/"
        },
        "id": "XVLsfbf18Ij7",
        "outputId": "54a536a1-6471-4ff2-f211-68350f857b14"
      },
      "source": [
        "re.findall('[0-9]{3}' , data)"
      ],
      "execution_count": 50,
      "outputs": [
        {
          "output_type": "execute_result",
          "data": {
            "text/plain": [
              "['890', '000', '200', '034', '123', '456', '321', '123', '432', '146']"
            ]
          },
          "metadata": {
            "tags": []
          },
          "execution_count": 50
        }
      ]
    },
    {
      "cell_type": "code",
      "metadata": {
        "colab": {
          "base_uri": "https://localhost:8080/"
        },
        "id": "vU5rLesN8fBe",
        "outputId": "9f279231-6ad0-43f9-dff1-63c22484c387"
      },
      "source": [
        "re.findall('[a-z]+@' , data)"
      ],
      "execution_count": 51,
      "outputs": [
        {
          "output_type": "execute_result",
          "data": {
            "text/plain": [
              "['nandikondavishal@']"
            ]
          },
          "metadata": {
            "tags": []
          },
          "execution_count": 51
        }
      ]
    },
    {
      "cell_type": "code",
      "metadata": {
        "colab": {
          "base_uri": "https://localhost:8080/"
        },
        "id": "0iDWf3Cn89Ix",
        "outputId": "3647d71e-2c0e-4545-ff82-97d4edba72cc"
      },
      "source": [
        "re.findall('[a-z]@' , data)"
      ],
      "execution_count": 52,
      "outputs": [
        {
          "output_type": "execute_result",
          "data": {
            "text/plain": [
              "['l@']"
            ]
          },
          "metadata": {
            "tags": []
          },
          "execution_count": 52
        }
      ]
    },
    {
      "cell_type": "code",
      "metadata": {
        "colab": {
          "base_uri": "https://localhost:8080/"
        },
        "id": "lnYTbnZJ9Ck9",
        "outputId": "d08e211d-5e85-4ab6-a929-9702d369f0b9"
      },
      "source": [
        "re.findall('\\d{3,6}' , data)"
      ],
      "execution_count": 53,
      "outputs": [
        {
          "output_type": "execute_result",
          "data": {
            "text/plain": [
              "['890000', '200034', '123', '456', '321', '123', '432', '146']"
            ]
          },
          "metadata": {
            "tags": []
          },
          "execution_count": 53
        }
      ]
    },
    {
      "cell_type": "code",
      "metadata": {
        "colab": {
          "base_uri": "https://localhost:8080/"
        },
        "id": "MZI1s32q9p-U",
        "outputId": "b1b11d68-736a-4967-cfca-a67dcc5f02ec"
      },
      "source": [
        "re.findall('\\.' , data)"
      ],
      "execution_count": 54,
      "outputs": [
        {
          "output_type": "execute_result",
          "data": {
            "text/plain": [
              "['.',\n",
              " '.',\n",
              " '.',\n",
              " '.',\n",
              " '.',\n",
              " '.',\n",
              " '.',\n",
              " '.',\n",
              " '.',\n",
              " '.',\n",
              " '.',\n",
              " '.',\n",
              " '.',\n",
              " '.',\n",
              " '.',\n",
              " '.',\n",
              " '.',\n",
              " '.',\n",
              " '.']"
            ]
          },
          "metadata": {
            "tags": []
          },
          "execution_count": 54
        }
      ]
    },
    {
      "cell_type": "code",
      "metadata": {
        "colab": {
          "base_uri": "https://localhost:8080/"
        },
        "id": "hikT2pVg93aH",
        "outputId": "86be2b2c-40c5-4724-cd47-1c09576baa1d"
      },
      "source": [
        "re.findall('\\.{3}' , data)"
      ],
      "execution_count": 55,
      "outputs": [
        {
          "output_type": "execute_result",
          "data": {
            "text/plain": [
              "['...', '...', '...', '...']"
            ]
          },
          "metadata": {
            "tags": []
          },
          "execution_count": 55
        }
      ]
    },
    {
      "cell_type": "code",
      "metadata": {
        "colab": {
          "base_uri": "https://localhost:8080/"
        },
        "id": "nMZuo9MV-Imp",
        "outputId": "418effd0-950d-4cce-de39-7f47c667d0e3"
      },
      "source": [
        "re.findall('[abc]' , data)"
      ],
      "execution_count": 56,
      "outputs": [
        {
          "output_type": "execute_result",
          "data": {
            "text/plain": [
              "['a',\n",
              " 'b',\n",
              " 'c',\n",
              " 'a',\n",
              " 'c',\n",
              " 'c',\n",
              " 'a',\n",
              " 'b',\n",
              " 'c',\n",
              " 'a',\n",
              " 'c',\n",
              " 'c',\n",
              " 'a',\n",
              " 'a',\n",
              " 'b',\n",
              " 'c',\n",
              " 'a',\n",
              " 'b',\n",
              " 'a',\n",
              " 'b',\n",
              " 'c',\n",
              " 'b',\n",
              " 'b',\n",
              " 'a',\n",
              " 'a',\n",
              " 'a',\n",
              " 'a',\n",
              " 'a',\n",
              " 'c',\n",
              " 'a',\n",
              " 'c']"
            ]
          },
          "metadata": {
            "tags": []
          },
          "execution_count": 56
        }
      ]
    },
    {
      "cell_type": "code",
      "metadata": {
        "colab": {
          "base_uri": "https://localhost:8080/"
        },
        "id": "5_Rx2RGV-PWd",
        "outputId": "155c544d-6c1f-4630-9338-5f9c86219ef2"
      },
      "source": [
        "re.findall('[abc]{3}' , data)"
      ],
      "execution_count": 57,
      "outputs": [
        {
          "output_type": "execute_result",
          "data": {
            "text/plain": [
              "['abc', 'abc', 'abc', 'abc']"
            ]
          },
          "metadata": {
            "tags": []
          },
          "execution_count": 57
        }
      ]
    },
    {
      "cell_type": "code",
      "metadata": {
        "colab": {
          "base_uri": "https://localhost:8080/"
        },
        "id": "_dISIyF0-ZWc",
        "outputId": "bd5680ee-ac07-42fa-e548-082100d9d7f5"
      },
      "source": [
        "re.findall('\\s' , data)"
      ],
      "execution_count": 58,
      "outputs": [
        {
          "output_type": "execute_result",
          "data": {
            "text/plain": [
              "[' ', ' ', ' ', ' ', ' ', ' ', ' ', ' ', ' ', ' ', ' ', ' ', ' ', ' ']"
            ]
          },
          "metadata": {
            "tags": []
          },
          "execution_count": 58
        }
      ]
    },
    {
      "cell_type": "code",
      "metadata": {
        "colab": {
          "base_uri": "https://localhost:8080/"
        },
        "id": "0Qbcu1KC-miK",
        "outputId": "f3ae6da4-5d2e-4d88-c12b-775437ea06aa"
      },
      "source": [
        "re.findall('\\S' , data)"
      ],
      "execution_count": 59,
      "outputs": [
        {
          "output_type": "execute_result",
          "data": {
            "text/plain": [
              "['a',\n",
              " 'b',\n",
              " 'c',\n",
              " 'd',\n",
              " 'e',\n",
              " 'f',\n",
              " 'g',\n",
              " 'h',\n",
              " 'A',\n",
              " 'B',\n",
              " 'C',\n",
              " 'D',\n",
              " 'E',\n",
              " 'F',\n",
              " 'G',\n",
              " 'H',\n",
              " 'a',\n",
              " 'd',\n",
              " 'c',\n",
              " 'c',\n",
              " 'd',\n",
              " 'e',\n",
              " 'f',\n",
              " 'a',\n",
              " 'b',\n",
              " 'c',\n",
              " 'd',\n",
              " 'a',\n",
              " 'd',\n",
              " 'A',\n",
              " 'B',\n",
              " 'D',\n",
              " 'C',\n",
              " 'C',\n",
              " 'D',\n",
              " 'A',\n",
              " 'D',\n",
              " 'D',\n",
              " 'B',\n",
              " 'E',\n",
              " 'C',\n",
              " 'E',\n",
              " 'A',\n",
              " 'B',\n",
              " 'c',\n",
              " 'd',\n",
              " 'D',\n",
              " '$',\n",
              " 'c',\n",
              " 'a',\n",
              " 'D',\n",
              " 'B',\n",
              " 'a',\n",
              " 'b',\n",
              " 'c',\n",
              " '8',\n",
              " '9',\n",
              " '0',\n",
              " '0',\n",
              " '0',\n",
              " '0',\n",
              " '2',\n",
              " '0',\n",
              " '0',\n",
              " '0',\n",
              " '3',\n",
              " '4',\n",
              " '7',\n",
              " '2',\n",
              " 'a',\n",
              " 'b',\n",
              " 'd',\n",
              " '.',\n",
              " '.',\n",
              " '.',\n",
              " '.',\n",
              " 'd',\n",
              " 'e',\n",
              " 'f',\n",
              " 'a',\n",
              " 'b',\n",
              " 'c',\n",
              " '.',\n",
              " '.',\n",
              " '.',\n",
              " '.',\n",
              " 'b',\n",
              " 'b',\n",
              " '.',\n",
              " '.',\n",
              " '.',\n",
              " '.',\n",
              " 'd',\n",
              " 'e',\n",
              " 'f',\n",
              " '.',\n",
              " '.',\n",
              " '.',\n",
              " '.',\n",
              " '.',\n",
              " 'g',\n",
              " 'h',\n",
              " 'a',\n",
              " '1',\n",
              " '2',\n",
              " '3',\n",
              " '-',\n",
              " '4',\n",
              " '5',\n",
              " '6',\n",
              " '-',\n",
              " '3',\n",
              " '2',\n",
              " '1',\n",
              " '1',\n",
              " '2',\n",
              " '3',\n",
              " '*',\n",
              " '4',\n",
              " '3',\n",
              " '2',\n",
              " '#',\n",
              " '1',\n",
              " '4',\n",
              " '6',\n",
              " 'n',\n",
              " 'a',\n",
              " 'n',\n",
              " 'd',\n",
              " 'i',\n",
              " 'k',\n",
              " 'o',\n",
              " 'n',\n",
              " 'd',\n",
              " 'a',\n",
              " 'v',\n",
              " 'i',\n",
              " 's',\n",
              " 'h',\n",
              " 'a',\n",
              " 'l',\n",
              " '@',\n",
              " 'g',\n",
              " 'm',\n",
              " 'a',\n",
              " 'i',\n",
              " 'l',\n",
              " '.',\n",
              " 'c',\n",
              " 'o',\n",
              " 'm',\n",
              " '@',\n",
              " 'g',\n",
              " 'm',\n",
              " 'a',\n",
              " 'i',\n",
              " 'l',\n",
              " '.',\n",
              " 'c',\n",
              " 'o',\n",
              " 'm']"
            ]
          },
          "metadata": {
            "tags": []
          },
          "execution_count": 59
        }
      ]
    },
    {
      "cell_type": "code",
      "metadata": {
        "id": "WOgd7_PM-vNs"
      },
      "source": [
        ""
      ],
      "execution_count": null,
      "outputs": []
    },
    {
      "cell_type": "code",
      "metadata": {
        "colab": {
          "base_uri": "https://localhost:8080/"
        },
        "id": "LyG7artYyG9E",
        "outputId": "d986e90b-552b-4f7b-df8c-f5ac4064d56b"
      },
      "source": [
        "re.__all__"
      ],
      "execution_count": 20,
      "outputs": [
        {
          "output_type": "execute_result",
          "data": {
            "text/plain": [
              "['compile',\n",
              " 'DEFAULT_VERSION',\n",
              " 'escape',\n",
              " 'findall',\n",
              " 'finditer',\n",
              " 'fullmatch',\n",
              " 'match',\n",
              " 'purge',\n",
              " 'search',\n",
              " 'split',\n",
              " 'splititer',\n",
              " 'sub',\n",
              " 'subf',\n",
              " 'subfn',\n",
              " 'subn',\n",
              " 'template',\n",
              " 'Scanner',\n",
              " 'A',\n",
              " 'ASCII',\n",
              " 'B',\n",
              " 'BESTMATCH',\n",
              " 'D',\n",
              " 'DEBUG',\n",
              " 'E',\n",
              " 'ENHANCEMATCH',\n",
              " 'S',\n",
              " 'DOTALL',\n",
              " 'F',\n",
              " 'FULLCASE',\n",
              " 'I',\n",
              " 'IGNORECASE',\n",
              " 'L',\n",
              " 'LOCALE',\n",
              " 'M',\n",
              " 'MULTILINE',\n",
              " 'P',\n",
              " 'POSIX',\n",
              " 'R',\n",
              " 'REVERSE',\n",
              " 'T',\n",
              " 'TEMPLATE',\n",
              " 'U',\n",
              " 'UNICODE',\n",
              " 'V0',\n",
              " 'VERSION0',\n",
              " 'V1',\n",
              " 'VERSION1',\n",
              " 'X',\n",
              " 'VERBOSE',\n",
              " 'W',\n",
              " 'WORD',\n",
              " 'error',\n",
              " 'Regex',\n",
              " '__version__',\n",
              " '__doc__']"
            ]
          },
          "metadata": {
            "tags": []
          },
          "execution_count": 20
        }
      ]
    },
    {
      "cell_type": "code",
      "metadata": {
        "id": "jl9X4jj_0WS-"
      },
      "source": [
        "#sub\n",
        "s = 'aaa@gmail.com  bbc@gmail.com  cca@outlook.com www@yahoo.com'\n",
        "#'ABC@'"
      ],
      "execution_count": 21,
      "outputs": []
    },
    {
      "cell_type": "code",
      "metadata": {
        "colab": {
          "base_uri": "https://localhost:8080/",
          "height": 35
        },
        "id": "WlyQRR0A053s",
        "outputId": "0f2e7a45-fa88-44af-87e0-c27e765aec85"
      },
      "source": [
        "re.sub('[a-z]+@' ,'ABC@', s )"
      ],
      "execution_count": 23,
      "outputs": [
        {
          "output_type": "execute_result",
          "data": {
            "application/vnd.google.colaboratory.intrinsic+json": {
              "type": "string"
            },
            "text/plain": [
              "'ABC@gmail.com  ABC@gmail.com  ABC@outlook.com ABC@yahoo.com'"
            ]
          },
          "metadata": {
            "tags": []
          },
          "execution_count": 23
        }
      ]
    },
    {
      "cell_type": "code",
      "metadata": {
        "colab": {
          "base_uri": "https://localhost:8080/",
          "height": 35
        },
        "id": "5G_M5nVW2IQR",
        "outputId": "62c463af-7e25-4315-d69e-fdaf981d5ad0"
      },
      "source": [
        "s"
      ],
      "execution_count": 24,
      "outputs": [
        {
          "output_type": "execute_result",
          "data": {
            "application/vnd.google.colaboratory.intrinsic+json": {
              "type": "string"
            },
            "text/plain": [
              "'aaa@gmail.com  bbc@gmail.com  cca@outlook.com www@yahoo.com'"
            ]
          },
          "metadata": {
            "tags": []
          },
          "execution_count": 24
        }
      ]
    },
    {
      "cell_type": "code",
      "metadata": {
        "colab": {
          "base_uri": "https://localhost:8080/"
        },
        "id": "xhv0xbW22LCn",
        "outputId": "808403b2-717a-40ea-b633-1f6ae260df05"
      },
      "source": [
        "s_subs = re.sub('[a-z]+@' ,'ABC@', s )\n",
        "print(s_subs)"
      ],
      "execution_count": 25,
      "outputs": [
        {
          "output_type": "stream",
          "text": [
            "ABC@gmail.com  ABC@gmail.com  ABC@outlook.com ABC@yahoo.com\n"
          ],
          "name": "stdout"
        }
      ]
    },
    {
      "cell_type": "code",
      "metadata": {
        "colab": {
          "base_uri": "https://localhost:8080/",
          "height": 35
        },
        "id": "NM4e8YMJ2n4l",
        "outputId": "29984869-a15c-4804-d84e-178326502f0d"
      },
      "source": [
        "s"
      ],
      "execution_count": 26,
      "outputs": [
        {
          "output_type": "execute_result",
          "data": {
            "application/vnd.google.colaboratory.intrinsic+json": {
              "type": "string"
            },
            "text/plain": [
              "'aaa@gmail.com  bbc@gmail.com  cca@outlook.com www@yahoo.com'"
            ]
          },
          "metadata": {
            "tags": []
          },
          "execution_count": 26
        }
      ]
    },
    {
      "cell_type": "code",
      "metadata": {
        "id": "kT-MRccT2sXz"
      },
      "source": [
        "str1 = '123abc243xyz546_0'"
      ],
      "execution_count": 27,
      "outputs": []
    },
    {
      "cell_type": "code",
      "metadata": {
        "colab": {
          "base_uri": "https://localhost:8080/"
        },
        "id": "zStYnXRT3HQO",
        "outputId": "806d2e11-9f0a-4906-92df-d02180bd3459"
      },
      "source": [
        "re.findall('\\d\\d\\d' , str1)"
      ],
      "execution_count": 28,
      "outputs": [
        {
          "output_type": "execute_result",
          "data": {
            "text/plain": [
              "['123', '243', '546']"
            ]
          },
          "metadata": {
            "tags": []
          },
          "execution_count": 28
        }
      ]
    },
    {
      "cell_type": "code",
      "metadata": {
        "colab": {
          "base_uri": "https://localhost:8080/"
        },
        "id": "wQBQdRY_3SPE",
        "outputId": "de3b55b0-66b4-4764-f7f4-acefd90809f6"
      },
      "source": [
        "re.findall('\\d' , str1)"
      ],
      "execution_count": 29,
      "outputs": [
        {
          "output_type": "execute_result",
          "data": {
            "text/plain": [
              "['1', '2', '3', '2', '4', '3', '5', '4', '6', '0']"
            ]
          },
          "metadata": {
            "tags": []
          },
          "execution_count": 29
        }
      ]
    },
    {
      "cell_type": "code",
      "metadata": {
        "colab": {
          "base_uri": "https://localhost:8080/"
        },
        "id": "KpoL9RJr3YIs",
        "outputId": "235b1400-8888-4cca-bfb4-23926b62e38d"
      },
      "source": [
        "re.findall('\\D' , str1)"
      ],
      "execution_count": 30,
      "outputs": [
        {
          "output_type": "execute_result",
          "data": {
            "text/plain": [
              "['a', 'b', 'c', 'x', 'y', 'z', '_']"
            ]
          },
          "metadata": {
            "tags": []
          },
          "execution_count": 30
        }
      ]
    },
    {
      "cell_type": "code",
      "metadata": {
        "colab": {
          "base_uri": "https://localhost:8080/"
        },
        "id": "K5sgejo23beX",
        "outputId": "e40056a0-037b-44a1-ae92-4ec67caf4720"
      },
      "source": [
        "re.findall('^\\d\\d\\d' , str1)"
      ],
      "execution_count": 31,
      "outputs": [
        {
          "output_type": "execute_result",
          "data": {
            "text/plain": [
              "['123']"
            ]
          },
          "metadata": {
            "tags": []
          },
          "execution_count": 31
        }
      ]
    },
    {
      "cell_type": "code",
      "metadata": {
        "colab": {
          "base_uri": "https://localhost:8080/"
        },
        "id": "aBGJHnnm3ktl",
        "outputId": "533d09a8-4c5c-441d-9e9b-d30d4b7cd5a4"
      },
      "source": [
        "re.findall('\\d$' , str1)"
      ],
      "execution_count": 32,
      "outputs": [
        {
          "output_type": "execute_result",
          "data": {
            "text/plain": [
              "['0']"
            ]
          },
          "metadata": {
            "tags": []
          },
          "execution_count": 32
        }
      ]
    },
    {
      "cell_type": "code",
      "metadata": {
        "colab": {
          "base_uri": "https://localhost:8080/"
        },
        "id": "0P6Ox0NO3vzW",
        "outputId": "50b8ef7e-d83c-48e6-da10-baf51b2f2d52"
      },
      "source": [
        "re.findall('\\D$' , str1)"
      ],
      "execution_count": 33,
      "outputs": [
        {
          "output_type": "execute_result",
          "data": {
            "text/plain": [
              "[]"
            ]
          },
          "metadata": {
            "tags": []
          },
          "execution_count": 33
        }
      ]
    },
    {
      "cell_type": "code",
      "metadata": {
        "id": "rtsx0Lvb3zzT"
      },
      "source": [
        "#search\n",
        "str1 = 'fool123bar'"
      ],
      "execution_count": 34,
      "outputs": []
    },
    {
      "cell_type": "code",
      "metadata": {
        "colab": {
          "base_uri": "https://localhost:8080/"
        },
        "id": "MEkonSJZ4WsC",
        "outputId": "261f2c45-ad17-4ebb-a327-0e76112752f9"
      },
      "source": [
        "re.search('\\d\\d\\d' , str1)"
      ],
      "execution_count": 35,
      "outputs": [
        {
          "output_type": "execute_result",
          "data": {
            "text/plain": [
              "<regex.Match object; span=(4, 7), match='123'>"
            ]
          },
          "metadata": {
            "tags": []
          },
          "execution_count": 35
        }
      ]
    },
    {
      "cell_type": "code",
      "metadata": {
        "colab": {
          "base_uri": "https://localhost:8080/"
        },
        "id": "BTo0_JI34kTG",
        "outputId": "77cdfa53-8b40-4b65-e3de-5e9e3870579d"
      },
      "source": [
        "re.search('\\d\\d' , str1)"
      ],
      "execution_count": 36,
      "outputs": [
        {
          "output_type": "execute_result",
          "data": {
            "text/plain": [
              "<regex.Match object; span=(4, 6), match='12'>"
            ]
          },
          "metadata": {
            "tags": []
          },
          "execution_count": 36
        }
      ]
    },
    {
      "cell_type": "code",
      "metadata": {
        "colab": {
          "base_uri": "https://localhost:8080/"
        },
        "id": "Wn0-lbCk4v8M",
        "outputId": "e0aed4a3-1657-408e-e9c6-b51a271c6c8d"
      },
      "source": [
        "re.search('\\d' , str1)"
      ],
      "execution_count": 37,
      "outputs": [
        {
          "output_type": "execute_result",
          "data": {
            "text/plain": [
              "<regex.Match object; span=(4, 5), match='1'>"
            ]
          },
          "metadata": {
            "tags": []
          },
          "execution_count": 37
        }
      ]
    },
    {
      "cell_type": "code",
      "metadata": {
        "id": "HBJfhWum4z1A"
      },
      "source": [
        "str2 = 'vishal nandikonda '"
      ],
      "execution_count": 39,
      "outputs": []
    },
    {
      "cell_type": "code",
      "metadata": {
        "colab": {
          "base_uri": "https://localhost:8080/"
        },
        "id": "nvQyE_kE5BzE",
        "outputId": "4b39ff32-8324-41b2-b061-1211cb5a2962"
      },
      "source": [
        "re.search('vishal', str2)"
      ],
      "execution_count": 41,
      "outputs": [
        {
          "output_type": "execute_result",
          "data": {
            "text/plain": [
              "<regex.Match object; span=(0, 6), match='vishal'>"
            ]
          },
          "metadata": {
            "tags": []
          },
          "execution_count": 41
        }
      ]
    },
    {
      "cell_type": "code",
      "metadata": {
        "colab": {
          "base_uri": "https://localhost:8080/"
        },
        "id": "B5JUIESB5gUF",
        "outputId": "7daa3c74-599d-4df7-d733-687adefa52ab"
      },
      "source": [
        "re.match('vishal', str2)"
      ],
      "execution_count": 42,
      "outputs": [
        {
          "output_type": "execute_result",
          "data": {
            "text/plain": [
              "<regex.Match object; span=(0, 6), match='vishal'>"
            ]
          },
          "metadata": {
            "tags": []
          },
          "execution_count": 42
        }
      ]
    },
    {
      "cell_type": "code",
      "metadata": {
        "id": "18xZdPnW5k1A"
      },
      "source": [
        "str3 = 'nandikondavishal@gmail.com  vishal nandikondavishal3@gmail.com nandikonda foolish @gmail.com 1235@gmail.com mango@gmail.com'"
      ],
      "execution_count": 43,
      "outputs": []
    },
    {
      "cell_type": "code",
      "metadata": {
        "colab": {
          "base_uri": "https://localhost:8080/"
        },
        "id": "04CeTCNj6LUF",
        "outputId": "0bd150d6-db1f-487a-af3b-db9e5e449edd"
      },
      "source": [
        "re.findall('\\w+@\\w+.\\w+' , str3)"
      ],
      "execution_count": 44,
      "outputs": [
        {
          "output_type": "execute_result",
          "data": {
            "text/plain": [
              "['nandikondavishal@gmail.com',\n",
              " 'nandikondavishal3@gmail.com',\n",
              " '1235@gmail.com',\n",
              " 'mango@gmail.com']"
            ]
          },
          "metadata": {
            "tags": []
          },
          "execution_count": 44
        }
      ]
    },
    {
      "cell_type": "code",
      "metadata": {
        "colab": {
          "base_uri": "https://localhost:8080/"
        },
        "id": "PRU-gFoN6z05",
        "outputId": "2d6c8095-105f-496d-f6f5-91ca27406748"
      },
      "source": [
        "email_regex = re.compile('\\w+@\\w+.\\w+')\n",
        "email_regex.findall(str3)"
      ],
      "execution_count": 46,
      "outputs": [
        {
          "output_type": "execute_result",
          "data": {
            "text/plain": [
              "['nandikondavishal@gmail.com',\n",
              " 'nandikondavishal3@gmail.com',\n",
              " '1235@gmail.com',\n",
              " 'mango@gmail.com']"
            ]
          },
          "metadata": {
            "tags": []
          },
          "execution_count": 46
        }
      ]
    }
  ]
}